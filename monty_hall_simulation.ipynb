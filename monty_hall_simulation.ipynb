{
 "cells": [
  {
   "cell_type": "code",
   "execution_count": 285,
   "metadata": {},
   "outputs": [],
   "source": [
    "import numpy as np\n",
    "import pandas as pd\n",
    "import array as ar\n",
    "\n",
    "class Preset:\n",
    "    '''\n",
    "    Monty Hall problem simulation class.\n",
    "    '''\n",
    "    \n",
    "    gates = np.array([[0,0,1],[0,1,0],[1,0,0]])\n",
    "    \n",
    "    def __init__(self):\n",
    "        self.result = None # Current chosen gate\n",
    "        self.state = Preset.gates[np.random.randint(0,2)]\n",
    "        \n",
    "    def __repr__(self):\n",
    "        return f'***\\nCurrent gates state is: {self.state}\\nMy current choice is: {self.result}\\n'\n",
    "    \n",
    "    def choose(self, step=0):\n",
    "        '''\n",
    "        Choose between available gates\n",
    "        :step: 0 = first choice, 1 = second choice\n",
    "        '''\n",
    "        self.step = step\n",
    "        \n",
    "        # First choice range 0,1,2 p(car) = 0.33%\n",
    "        if self.step == 0: \n",
    "            self.result = self.state[np.random.randint(0,3)]\n",
    "        \n",
    "        \n",
    "        elif self.step == 1:\n",
    "            if len(self.state) < 3:\n",
    "                if self.result == 1:\n",
    "                    self.result = 0\n",
    "                elif self.result == 0:\n",
    "                    self.result = 1\n",
    "            else:\n",
    "                print('Gates state has to be updated first!')\n",
    "                \n",
    "        else:\n",
    "            print('Use 0 for first step and 1 for second step!')\n",
    "                    \n",
    "\n",
    "    def update_state(self):\n",
    "        '''\n",
    "        Remove one goat gate from the state\n",
    "        '''\n",
    "        goat_slice = np.where(self.state == 0)\n",
    "        self.state = np.delete(self.state, goat_slice[0][0], axis=None)"
   ]
  },
  {
   "cell_type": "code",
   "execution_count": 287,
   "metadata": {},
   "outputs": [
    {
     "name": "stdout",
     "output_type": "stream",
     "text": [
      "***\n",
      "Current gates state is: [0 0 1]\n",
      "My current choice is: None\n",
      "\n",
      "***\n",
      "Current gates state is: [0 0 1]\n",
      "My current choice is: 1\n",
      "\n",
      "***\n",
      "Current gates state is: [0 1]\n",
      "My current choice is: 1\n",
      "\n",
      "***\n",
      "Current gates state is: [0 1]\n",
      "My current choice is: 0\n",
      "\n"
     ]
    }
   ],
   "source": [
    "# Monty Hall problem path with decision switch\n",
    "sim = Preset()\n",
    "print(sim)\n",
    "sim.choose()\n",
    "print(sim)\n",
    "sim.update_state()\n",
    "print(sim)\n",
    "sim.choose(1)\n",
    "print(sim)"
   ]
  },
  {
   "cell_type": "code",
   "execution_count": 288,
   "metadata": {},
   "outputs": [
    {
     "name": "stdout",
     "output_type": "stream",
     "text": [
      "***\n",
      "Current gates state is: [0 0 1]\n",
      "My current choice is: None\n",
      "\n",
      "***\n",
      "Current gates state is: [0 0 1]\n",
      "My current choice is: 1\n",
      "\n",
      "***\n",
      "Current gates state is: [0 1]\n",
      "My current choice is: 1\n",
      "\n"
     ]
    }
   ],
   "source": [
    "# Monty Hall problem decision path wo decision switch\n",
    "sim = Preset()\n",
    "print(sim)\n",
    "sim.choose()\n",
    "print(sim)\n",
    "sim.update_state()\n",
    "print(sim)"
   ]
  },
  {
   "cell_type": "code",
   "execution_count": 271,
   "metadata": {},
   "outputs": [],
   "source": [
    "## Simulate n trials\n",
    "p_change = ar.array('B',[])\n",
    "n = 100_000\n",
    "\n",
    "for _ in range(0, n):\n",
    "    # Set initial state\n",
    "    sim = Preset()\n",
    "    # Make first choice\n",
    "    sim.choose()\n",
    "    # Reveal empty gate = update gates state\n",
    "    sim.update_state()\n",
    "    # Make a new decision basing on update probability distr\n",
    "    sim.choose(1)\n",
    "    # Collect results for further analysis\n",
    "    p_change.append(sim.result)"
   ]
  },
  {
   "cell_type": "code",
   "execution_count": 272,
   "metadata": {},
   "outputs": [
    {
     "data": {
      "text/plain": [
       "1    0.66581\n",
       "0    0.33419\n",
       "dtype: float64"
      ]
     },
     "execution_count": 272,
     "metadata": {},
     "output_type": "execute_result"
    }
   ],
   "source": [
    "## Check P distribution path with decision switch\n",
    "p_change_series = pd.Series(p_change)\n",
    "p_change_series.value_counts(normalize = True)"
   ]
  },
  {
   "cell_type": "code",
   "execution_count": 273,
   "metadata": {},
   "outputs": [],
   "source": [
    "# Simulate n trials\n",
    "p_no_change = ar.array('B',[])\n",
    "n = 100_000\n",
    "\n",
    "for _ in range(0, n):\n",
    "    # Set initial state\n",
    "    sim = Preset()\n",
    "    # Make first choice\n",
    "    sim.choose()\n",
    "    # Reveal empty gate = update gates state\n",
    "    sim.update_state()\n",
    "    \n",
    "    p_no_change.append(sim.result)"
   ]
  },
  {
   "cell_type": "code",
   "execution_count": 274,
   "metadata": {
    "scrolled": true
   },
   "outputs": [
    {
     "data": {
      "text/plain": [
       "0    0.66938\n",
       "1    0.33062\n",
       "dtype: float64"
      ]
     },
     "execution_count": 274,
     "metadata": {},
     "output_type": "execute_result"
    }
   ],
   "source": [
    "## Check P distribution path wo decision switch\n",
    "p_no_change_series = pd.Series(p_no_change)\n",
    "p_no_change_series.value_counts(normalize=True)"
   ]
  }
 ],
 "metadata": {
  "kernelspec": {
   "display_name": "Python 3",
   "language": "python",
   "name": "python3"
  },
  "language_info": {
   "codemirror_mode": {
    "name": "ipython",
    "version": 3
   },
   "file_extension": ".py",
   "mimetype": "text/x-python",
   "name": "python",
   "nbconvert_exporter": "python",
   "pygments_lexer": "ipython3",
   "version": "3.8.3"
  }
 },
 "nbformat": 4,
 "nbformat_minor": 4
}
